{
 "cells": [
  {
   "cell_type": "markdown",
   "id": "fc0b0cec",
   "metadata": {},
   "source": [
    "## Load model"
   ]
  },
  {
   "cell_type": "code",
   "execution_count": 2,
   "id": "762ebf33",
   "metadata": {
    "ExecuteTime": {
     "end_time": "2025-05-11T08:01:01.815173Z",
     "start_time": "2025-05-11T08:01:01.728909Z"
    }
   },
   "outputs": [
    {
     "ename": "ModuleNotFoundError",
     "evalue": "No module named 'bytelatent.data'",
     "output_type": "error",
     "traceback": [
      "\u001b[31m---------------------------------------------------------------------------\u001b[39m",
      "\u001b[31mModuleNotFoundError\u001b[39m                       Traceback (most recent call last)",
      "\u001b[36mCell\u001b[39m\u001b[36m \u001b[39m\u001b[32mIn[2]\u001b[39m\u001b[32m, line 2\u001b[39m\n\u001b[32m      1\u001b[39m \u001b[38;5;28;01mimport\u001b[39;00m\u001b[38;5;250m \u001b[39m\u001b[34;01mtorch\u001b[39;00m\n\u001b[32m----> \u001b[39m\u001b[32m2\u001b[39m \u001b[38;5;28;01mfrom\u001b[39;00m\u001b[38;5;250m \u001b[39m\u001b[34;01mbytelatent\u001b[39;00m\u001b[34;01m.\u001b[39;00m\u001b[34;01mmodel\u001b[39;00m\u001b[34;01m.\u001b[39;00m\u001b[34;01mblt\u001b[39;00m\u001b[38;5;250m \u001b[39m\u001b[38;5;28;01mimport\u001b[39;00m ByteLatentTransformerArgs, ByteLatentTransformer\n\u001b[32m      4\u001b[39m \u001b[38;5;66;03m# Path to your saved checkpoint\u001b[39;00m\n\u001b[32m      5\u001b[39m checkpoint_path = \u001b[33m'\u001b[39m\u001b[33mcheckpoints/model_best.pth\u001b[39m\u001b[33m'\u001b[39m  \u001b[38;5;66;03m# adjust to your saved path\u001b[39;00m\n",
      "\u001b[36mFile \u001b[39m\u001b[32m~/time-blt/blt/bytelatent/model/blt.py:18\u001b[39m\n\u001b[32m     10\u001b[39m \u001b[38;5;28;01mfrom\u001b[39;00m\u001b[38;5;250m \u001b[39m\u001b[34;01mtyping_extensions\u001b[39;00m\u001b[38;5;250m \u001b[39m\u001b[38;5;28;01mimport\u001b[39;00m Self\n\u001b[32m     12\u001b[39m \u001b[38;5;28;01mfrom\u001b[39;00m\u001b[38;5;250m \u001b[39m\u001b[34;01mbytelatent\u001b[39;00m\u001b[34;01m.\u001b[39;00m\u001b[34;01mbase_transformer\u001b[39;00m\u001b[38;5;250m \u001b[39m\u001b[38;5;28;01mimport\u001b[39;00m (\n\u001b[32m     13\u001b[39m     BaseTransformerArgs,\n\u001b[32m     14\u001b[39m     InitStdFactor,\n\u001b[32m     15\u001b[39m     SequenceModelWithOutput,\n\u001b[32m     16\u001b[39m     TransformerBlock,\n\u001b[32m     17\u001b[39m )\n\u001b[32m---> \u001b[39m\u001b[32m18\u001b[39m \u001b[38;5;28;01mfrom\u001b[39;00m\u001b[38;5;250m \u001b[39m\u001b[34;01mbytelatent\u001b[39;00m\u001b[34;01m.\u001b[39;00m\u001b[34;01mdata\u001b[39;00m\u001b[34;01m.\u001b[39;00m\u001b[34;01mpatcher\u001b[39;00m\u001b[38;5;250m \u001b[39m\u001b[38;5;28;01mimport\u001b[39;00m Patcher, PatcherArgs\n\u001b[32m     19\u001b[39m \u001b[38;5;28;01mfrom\u001b[39;00m\u001b[38;5;250m \u001b[39m\u001b[34;01mbytelatent\u001b[39;00m\u001b[34;01m.\u001b[39;00m\u001b[34;01mmodel\u001b[39;00m\u001b[34;01m.\u001b[39;00m\u001b[34;01mlatent_transformer\u001b[39;00m\u001b[38;5;250m \u001b[39m\u001b[38;5;28;01mimport\u001b[39;00m GlobalTransformer\n\u001b[32m     20\u001b[39m \u001b[38;5;28;01mfrom\u001b[39;00m\u001b[38;5;250m \u001b[39m\u001b[34;01mbytelatent\u001b[39;00m\u001b[34;01m.\u001b[39;00m\u001b[34;01mmodel\u001b[39;00m\u001b[34;01m.\u001b[39;00m\u001b[34;01mlocal_models\u001b[39;00m\u001b[38;5;250m \u001b[39m\u001b[38;5;28;01mimport\u001b[39;00m LocalDecoder, LocalEncoder, LocalModelArgs\n",
      "\u001b[31mModuleNotFoundError\u001b[39m: No module named 'bytelatent.data'"
     ]
    }
   ],
   "source": [
    "import torch\n",
    "from bytelatent.model.blt import ByteLatentTransformerArgs, ByteLatentTransformer\n",
    "\n",
    "# Path to your saved checkpoint\n",
    "checkpoint_path = 'checkpoints/model_best.pth'  # adjust to your saved path"
   ]
  },
  {
   "cell_type": "code",
   "execution_count": 2,
   "id": "31eb5f3c",
   "metadata": {},
   "outputs": [
    {
     "data": {
      "text/plain": [
       "<All keys matched successfully>"
      ]
     },
     "execution_count": 2,
     "metadata": {},
     "output_type": "execute_result"
    }
   ],
   "source": [
    "# Create model args matching the saved model architecture exactly\n",
    "checkpoint = torch.load(checkpoint_path, map_location='cpu', weights_only=False)\n",
    "\n",
    "model_state_dict = checkpoint['model_state_dict']\n",
    "model_args = ByteLatentTransformerArgs(\n",
    "    seed=777,\n",
    "    vocab_size=4096,\n",
    "    # These parameters must match the saved model\n",
    "    dim=256,  # Based on your training code\n",
    "    n_layers_global=8,  # Confirmed from state_dict keys\n",
    "    n_layers_local_decoder=4,  # Confirmed from state_dict keys\n",
    "    n_layers_local_encoder=4,  # Confirmed from state_dict keys\n",
    "    \n",
    "    patch_size=8,\n",
    "    patching_mode=\"static\",\n",
    "    tie_local_encoder_decoder_logits=False,\n",
    "    patch_in_forward=False,\n",
    "    max_encoder_seq_length=512,\n",
    "    pad_to_max_length=True,\n",
    "    patching_threshold=3.1439168453216553,\n",
    "    encoder_hash_byte_group_size=[4],\n",
    "    encoder_hash_byte_group_vocab=50002,\n",
    "    encoder_hash_byte_group_nb_functions=3,\n",
    "    encoder_enable_byte_ngrams=False,\n",
    "    cross_attn_encoder=True,\n",
    "    cross_attn_decoder=True,\n",
    "    cross_attn_window_encoder=None,\n",
    "    cross_attn_window_decoder=None,\n",
    "    dim_local_encoder=128,\n",
    "    dim_local_decoder=128,\n",
    "    cross_attn_k=2,  # From your training code\n",
    "    cross_attn_nheads=4,  # From your training code\n",
    "    cross_attn_all_layers_decoder=True,\n",
    "    cross_attn_all_layers_encoder=True,\n",
    "    cross_attn_use_flex_attention=False,\n",
    "    cross_attn_init_by_pooling=True,\n",
    "    log_patch_lengths=True,\n",
    "    non_linearity=\"swiglu\",\n",
    "    use_rope=True,\n",
    "    recompute_fc1_out=False,\n",
    "    recompute_fc3_out=False,\n",
    "    recompute_attn=False,\n",
    "    custom_bwd=False,\n",
    "    layer_ckpt=\"none\",\n",
    "    use_local_encoder_transformer=True,\n",
    "    init_use_gaussian=True,\n",
    "    init_use_depth=\"current\",\n",
    "    attn_impl=\"sdpa\",\n",
    "    attn_bias_type=\"causal\",\n",
    "    alpha_depth=\"disabled\",\n",
    "    max_length=512,\n",
    "    local_attention_window_len=512,\n",
    "    max_seqlen=512,\n",
    "    downsampling_by_pooling=\"max\",\n",
    ")\n",
    "\n",
    "# Create the model\n",
    "model = ByteLatentTransformer(model_args)\n",
    "\n",
    "# Load the state dict from the checkpoint (remove the '_orig_mod.' prefix)\n",
    "model_state_dict = {k.replace('_orig_mod.', ''): v for k, v in checkpoint['model_state_dict'].items()}\n",
    "\n",
    "# Load the state dict into the model\n",
    "model.load_state_dict(model_state_dict)"
   ]
  },
  {
   "cell_type": "code",
   "execution_count": 3,
   "id": "afd4c5c4",
   "metadata": {},
   "outputs": [
    {
     "name": "stdout",
     "output_type": "stream",
     "text": [
      "Model loaded successfully from checkpoints/model_best.pth\n",
      "Trained for 3 epochs\n",
      "Final loss: 3.2631458002328873\n"
     ]
    }
   ],
   "source": [
    "# Load the checkpoint\n",
    "# # Load just the model state dict\n",
    "# # Load the checkpoint with weights_only=False\n",
    "# checkpoint = torch.load(checkpoint_path, map_location='cpu', weights_only=False)\n",
    "\n",
    "# model_state_dict = checkpoint['model_state_dict']\n",
    "# # # model.load_state_dict(state_dict)\n",
    "# # model_args = ByteLatentTransformerArgs(\n",
    "# #         vocab_size=4096,\n",
    "# #         dim=256,\n",
    "#         n_layers_global=8,\n",
    "#         n_layers_local_decoder=4,\n",
    "#         n_layers_local_encoder=4,\n",
    "#         patch_size=8,\n",
    "#         patching_mode=\"static\",\n",
    "#         tie_local_encoder_decoder_logits=False,\n",
    "#         patch_in_forward=False,\n",
    "#         max_encoder_seq_length=512,\n",
    "#         pad_to_max_length=True,\n",
    "#         patching_threshold=3.1439168453216553,\n",
    "#         encoder_hash_byte_group_size=[4],\n",
    "#         encoder_hash_byte_group_vocab=50002,\n",
    "#         encoder_hash_byte_group_nb_functions=3,\n",
    "#         encoder_enable_byte_ngrams=False,\n",
    "#         cross_attn_encoder=True,\n",
    "#         cross_attn_decoder=True,\n",
    "#         cross_attn_window_encoder=None,\n",
    "#         cross_attn_window_decoder=None,\n",
    "#         dim_local_encoder=128,\n",
    "#         dim_local_decoder=128,\n",
    "#         cross_attn_k=2,\n",
    "#         cross_attn_nheads=4,\n",
    "#         cross_attn_all_layers_decoder=True,\n",
    "#         cross_attn_all_layers_encoder=True,\n",
    "#         cross_attn_use_flex_attention=False,\n",
    "#         cross_attn_init_by_pooling=True,\n",
    "#         log_patch_lengths=True,\n",
    "#         non_linearity=\"swiglu\",\n",
    "#         use_rope=True,\n",
    "#         recompute_fc1_out=False,\n",
    "#         recompute_fc3_out=False,\n",
    "#         recompute_attn=False,\n",
    "#         custom_bwd=False,\n",
    "#         layer_ckpt=\"none\",\n",
    "#         use_local_encoder_transformer=True,\n",
    "#         init_use_gaussian=True,\n",
    "#         init_use_depth=\"current\",\n",
    "#         attn_impl=\"sdpa\",\n",
    "#         attn_bias_type=\"causal\",\n",
    "#         alpha_depth=\"disabled\",\n",
    "#         max_length=512,\n",
    "#         local_attention_window_len=512,\n",
    "#         max_seqlen=512,\n",
    "#         downsampling_by_pooling=\"max\",\n",
    "#     )\n",
    "\n",
    "# # Create the model\n",
    "# model = ByteLatentTransformer(model_args)\n",
    "# # Load the state dict from the checkpoint (DDP models save with 'module.' prefix)\n",
    "# model_state_dict = checkpoint['model_state_dict']\n",
    "# # Remove 'module.' prefix if it exists (from DDP)\n",
    "# if list(model_state_dict.keys())[0].startswith('module.'):\n",
    "#     model_state_dict = {k[7:]: v for k, v in model_state_dict.items()}\n",
    "# # Load the state dict into the model\n",
    "# model.load_state_dict(model_state_dict)\n",
    "\n",
    "# Move to GPU if available\n",
    "device = torch.device('cuda' if torch.cuda.is_available() else 'cpu')\n",
    "model = model.to(device)\n",
    "\n",
    "# Put the model in evaluation mode\n",
    "model.eval()\n",
    "\n",
    "print(f\"Model loaded successfully from {checkpoint_path}\")\n",
    "print(f\"Trained for {checkpoint['epoch']+1} epochs\")\n",
    "print(f\"Final loss: {checkpoint['loss']}\")"
   ]
  },
  {
   "cell_type": "code",
   "execution_count": 4,
   "id": "3fbfd5df",
   "metadata": {},
   "outputs": [],
   "source": [
    "# # Move to GPU if available\n",
    "# device = torch.device('cuda' if torch.cuda.is_available() else 'cpu')\n",
    "# model = model.to(device)\n",
    "\n",
    "# # Put the model in evaluation mode\n",
    "# model.eval()\n",
    "\n",
    "# print(f\"Model loaded successfully from {checkpoint_path}\")\n",
    "# print(f\"Trained for {checkpoint['epoch']+1} epochs\")\n",
    "# print(f\"Final loss: {checkpoint['loss']}\")"
   ]
  },
  {
   "cell_type": "code",
   "execution_count": 5,
   "id": "745e1396",
   "metadata": {},
   "outputs": [],
   "source": [
    "# # Create the model\n",
    "# model = ByteLatentTransformer(model_args)\n",
    "# # Load the state dict from the checkpoint (DDP models save with 'module.' prefix)\n",
    "# model_state_dict = checkpoint['model_state_dict']\n",
    "# # Remove 'module.' prefix if it exists (from DDP)\n",
    "# if list(model_state_dict.keys())[0].startswith('module.'):\n",
    "#     model_state_dict = {k[7:]: v for k, v in model_state_dict.items()}\n",
    "# # Load the state dict into the model\n",
    "# model.load_state_dict(model_state_dict)\n",
    "\n",
    "# # Move to GPU if available\n",
    "# device = torch.device('cuda' if torch.cuda.is_available() else 'cpu')\n",
    "# model = model.to(device)\n",
    "\n",
    "# # Put the model in evaluation mode\n",
    "# model.eval()\n",
    "\n",
    "# print(f\"Model loaded successfully from {checkpoint_path}\")\n",
    "# print(f\"Trained for {checkpoint['epoch']+1} epochs\")\n",
    "# print(f\"Final loss: {checkpoint['loss']}\")"
   ]
  },
  {
   "cell_type": "code",
   "execution_count": 4,
   "id": "84074ae9",
   "metadata": {},
   "outputs": [],
   "source": [
    "from dataloader import DataLoaderBLT\n",
    "batch_size = 1\n",
    "seq_len = 512\n",
    "data_loader = DataLoaderBLT(batch_size=batch_size, seq_length=seq_len, split=\"val\")\n",
    "\n"
   ]
  },
  {
   "cell_type": "code",
   "execution_count": 5,
   "id": "e19f4ff6",
   "metadata": {},
   "outputs": [
    {
     "data": {
      "text/plain": [
       "torch.Size([1, 64])"
      ]
     },
     "execution_count": 5,
     "metadata": {},
     "output_type": "execute_result"
    }
   ],
   "source": [
    "l = torch.full((batch_size,64), 8).to('cuda')\n",
    "l[:,0] = 1\n",
    "l[:,-1] = 10\n",
    "l[:,2] = 11\n",
    "l[:,1] = 10\n",
    "patch_lengths = l\n",
    "patch_lengths.shape"
   ]
  },
  {
   "cell_type": "code",
   "execution_count": 141,
   "id": "758cfa7b",
   "metadata": {},
   "outputs": [
    {
     "data": {
      "image/png": "[encoded data removed]",
      "text/plain": [
       "<Figure size 900x500 with 1 Axes>"
      ]
     },
     "metadata": {},
     "output_type": "display_data"
    },
    {
     "name": "stdout",
     "output_type": "stream",
     "text": [
      "Mean Squared Error (MSE): 3.5685\n",
      "Mean Absolute Error (MAE): 1.5233\n",
      "\n",
      "Actual vs Predicted Values:\n"
     ]
    },
    {
     "data": {
      "application/vnd.microsoft.datawrangler.viewer.v0+json": {
       "columns": [
        {
         "name": "index",
         "rawType": "int64",
         "type": "integer"
        },
        {
         "name": "Actual",
         "rawType": "float32",
         "type": "float"
        },
        {
         "name": "Predicted",
         "rawType": "float32",
         "type": "float"
        },
        {
         "name": "Difference",
         "rawType": "float32",
         "type": "float"
        }
       ],
       "conversionMethod": "pd.DataFrame",
       "ref": "f478f053-3ca7-4b5d-999a-152020e166ef",
       "rows": [
        [
         "0",
         "34.205547",
         "34.429604",
         "-0.22405624"
        ],
        [
         "1",
         "33.309334",
         "33.981495",
         "-0.6721611"
        ],
        [
         "2",
         "32.861225",
         "33.309334",
         "-0.44810867"
        ],
        [
         "3",
         "32.413116",
         "33.08528",
         "-0.6721649"
        ],
        [
         "4",
         "32.189064",
         "32.4878",
         "-0.29873657"
        ],
        [
         "5",
         "31.740955",
         "32.189064",
         "-0.44810867"
        ],
        [
         "6",
         "31.516901",
         "31.591587",
         "-0.07468605"
        ],
        [
         "7",
         "31.068794",
         "31.143478",
         "-0.07468414"
        ],
        [
         "8",
         "30.620686",
         "30.695372",
         "-0.07468605"
        ],
        [
         "9",
         "30.247263",
         "30.695372",
         "-0.44810867"
        ]
       ],
       "shape": {
        "columns": 3,
        "rows": 10
       }
      },
      "text/html": [
       "<div>\n",
       "<style scoped>\n",
       "    .dataframe tbody tr th:only-of-type {\n",
       "        vertical-align: middle;\n",
       "    }\n",
       "\n",
       "    .dataframe tbody tr th {\n",
       "        vertical-align: top;\n",
       "    }\n",
       "\n",
       "    .dataframe thead th {\n",
       "        text-align: right;\n",
       "    }\n",
       "</style>\n",
       "<table border=\"1\" class=\"dataframe\">\n",
       "  <thead>\n",
       "    <tr style=\"text-align: right;\">\n",
       "      <th></th>\n",
       "      <th>Actual</th>\n",
       "      <th>Predicted</th>\n",
       "      <th>Difference</th>\n",
       "    </tr>\n",
       "  </thead>\n",
       "  <tbody>\n",
       "    <tr>\n",
       "      <th>0</th>\n",
       "      <td>34.2055</td>\n",
       "      <td>34.4296</td>\n",
       "      <td>-0.2241</td>\n",
       "    </tr>\n",
       "    <tr>\n",
       "      <th>1</th>\n",
       "      <td>33.3093</td>\n",
       "      <td>33.9815</td>\n",
       "      <td>-0.6722</td>\n",
       "    </tr>\n",
       "    <tr>\n",
       "      <th>2</th>\n",
       "      <td>32.8612</td>\n",
       "      <td>33.3093</td>\n",
       "      <td>-0.4481</td>\n",
       "    </tr>\n",
       "    <tr>\n",
       "      <th>3</th>\n",
       "      <td>32.4131</td>\n",
       "      <td>33.0853</td>\n",
       "      <td>-0.6722</td>\n",
       "    </tr>\n",
       "    <tr>\n",
       "      <th>4</th>\n",
       "      <td>32.1891</td>\n",
       "      <td>32.4878</td>\n",
       "      <td>-0.2987</td>\n",
       "    </tr>\n",
       "    <tr>\n",
       "      <th>5</th>\n",
       "      <td>31.7410</td>\n",
       "      <td>32.1891</td>\n",
       "      <td>-0.4481</td>\n",
       "    </tr>\n",
       "    <tr>\n",
       "      <th>6</th>\n",
       "      <td>31.5169</td>\n",
       "      <td>31.5916</td>\n",
       "      <td>-0.0747</td>\n",
       "    </tr>\n",
       "    <tr>\n",
       "      <th>7</th>\n",
       "      <td>31.0688</td>\n",
       "      <td>31.1435</td>\n",
       "      <td>-0.0747</td>\n",
       "    </tr>\n",
       "    <tr>\n",
       "      <th>8</th>\n",
       "      <td>30.6207</td>\n",
       "      <td>30.6954</td>\n",
       "      <td>-0.0747</td>\n",
       "    </tr>\n",
       "    <tr>\n",
       "      <th>9</th>\n",
       "      <td>30.2473</td>\n",
       "      <td>30.6954</td>\n",
       "      <td>-0.4481</td>\n",
       "    </tr>\n",
       "  </tbody>\n",
       "</table>\n",
       "</div>"
      ],
      "text/plain": [
       "    Actual  Predicted  Difference\n",
       "0  34.2055    34.4296     -0.2241\n",
       "1  33.3093    33.9815     -0.6722\n",
       "2  32.8612    33.3093     -0.4481\n",
       "3  32.4131    33.0853     -0.6722\n",
       "4  32.1891    32.4878     -0.2987\n",
       "5  31.7410    32.1891     -0.4481\n",
       "6  31.5169    31.5916     -0.0747\n",
       "7  31.0688    31.1435     -0.0747\n",
       "8  30.6207    30.6954     -0.0747\n",
       "9  30.2473    30.6954     -0.4481"
      ]
     },
     "metadata": {},
     "output_type": "display_data"
    }
   ],
   "source": [
    "import torch\n",
    "import matplotlib.pyplot as plt\n",
    "import numpy as np\n",
    "import seaborn as sns\n",
    "import pandas as pd\n",
    "\n",
    "# Set Seaborn styling\n",
    "sns.set_theme(style=\"whitegrid\")\n",
    "sns.set_context(\"paper\", font_scale=1)\n",
    "\n",
    "# Get a batch of data\n",
    "x, _, _, y, scale, _ = data_loader.next_batch_random()\n",
    "\n",
    "# Store the full sequence before truncation\n",
    "full_sequence = x.clone()\n",
    "\n",
    "# Remove the last 48 points from the input\n",
    "truncated_x = x[:, :-48].clone()\n",
    "\n",
    "# Pad the truncated sequence back to 512 tokens\n",
    "padded_x = torch.cat([truncated_x[:, :48].repeat(1, 1), truncated_x], dim=1)[:, -512:]\n",
    "\n",
    "# Make sure we have 512 tokens\n",
    "assert padded_x.shape[1] == 512, f\"Expected context length 512, got {padded_x.shape[1]}\"\n",
    "\n",
    "# Use this as our starting point\n",
    "x = padded_x.clone()\n",
    "\n",
    "# Store forecasted tokens\n",
    "forecasted_tokens = []\n",
    "\n",
    "# Forecast 48 points\n",
    "for i in range(48):\n",
    "    with torch.no_grad():\n",
    "        # Forward pass with current context window\n",
    "        logits = model(x, patch_lengths)\n",
    "        \n",
    "        # Get predictions for the next token (last position)\n",
    "        last_token_logits = logits[:, -1, :]\n",
    "        last_token_probs = torch.softmax(last_token_logits, dim=-1)\n",
    "        \n",
    "        # Sample next token\n",
    "        sampled_token = torch.multinomial(last_token_probs, num_samples=1)\n",
    "        \n",
    "        # Store the forecasted token\n",
    "        forecasted_tokens.append(sampled_token.cpu().item())\n",
    "        \n",
    "        # Shift context window: remove oldest token and add new prediction\n",
    "        x = torch.cat([x[:, 1:], sampled_token], dim=1)\n",
    "\n",
    "# Convert forecasted tokens to a tensor\n",
    "forecasted_tokens_tensor = torch.tensor(forecasted_tokens, device=x.device).unsqueeze(0)\n",
    "\n",
    "# Get the actual tokens that were removed (for comparison)\n",
    "actual_tokens = full_sequence[:, -48:].cpu().numpy().flatten()\n",
    "\n",
    "# Dequantize both predicted and actual tokens\n",
    "forecasted_values = data_loader.quantizer.dequantize(forecasted_tokens_tensor, scale).cpu().numpy().flatten()\n",
    "actual_values = data_loader.quantizer.dequantize(torch.tensor(actual_tokens, device=x.device).unsqueeze(0), scale).cpu().numpy().flatten()\n",
    "\n",
    "# Get context data for plotting\n",
    "context_tokens = truncated_x[0, -100:].cpu().numpy()\n",
    "context_values = data_loader.quantizer.dequantize(torch.tensor(context_tokens, device=x.device).unsqueeze(0), scale).cpu().numpy().flatten()\n",
    "\n",
    "# Create a DataFrame for better Seaborn plotting\n",
    "all_timesteps = np.arange(len(context_values) + len(actual_values))\n",
    "all_values = []\n",
    "all_types = []\n",
    "\n",
    "# Add context data\n",
    "for i, val in enumerate(context_values):\n",
    "    all_values.append(val)\n",
    "    all_types.append('Historical')\n",
    "\n",
    "# Add actual future values\n",
    "for i, val in enumerate(actual_values):\n",
    "    all_values.append(val)\n",
    "    all_types.append('Actual')\n",
    "\n",
    "# Create dataframe\n",
    "plot_df = pd.DataFrame({\n",
    "    'Timestep': all_timesteps,\n",
    "    'Value': all_values,\n",
    "    'Type': all_types\n",
    "})\n",
    "\n",
    "# Create forecast dataframe separately (to use dashed line)\n",
    "forecast_timesteps = np.arange(len(context_values), len(context_values) + len(forecasted_values))\n",
    "forecast_df = pd.DataFrame({\n",
    "    'Timestep': forecast_timesteps,\n",
    "    'Value': forecasted_values,\n",
    "    'Type': ['Forecast'] * len(forecasted_values)\n",
    "})\n",
    "\n",
    "# Calculate error metrics\n",
    "mse = np.mean((forecasted_values - actual_values) ** 2)\n",
    "mae = np.mean(np.abs(forecasted_values - actual_values))\n",
    "\n",
    "# Create the plot\n",
    "plt.figure(figsize=(9, 5))\n",
    "sns.lineplot(data=plot_df, x='Timestep', y='Value', hue='Type', \n",
    "             palette={'Historical': 'dodgerblue', 'Actual': 'forestgreen'}, \n",
    "             linewidth=1.5)\n",
    "\n",
    "# Add the forecast with dashed line\n",
    "sns.lineplot(data=forecast_df, x='Timestep', y='Value', \n",
    "             color='crimson', linestyle='--', label='Forecast', linewidth=1.5)\n",
    "\n",
    "# Add vertical line indicating prediction start\n",
    "plt.axvline(x=len(context_values)-1, color='darkgray', linestyle='--', alpha=0.7)\n",
    "\n",
    "# Add annotations\n",
    "plt.title(f'Time Series Forecast Evaluation', fontsize=10)\n",
    "plt.text(len(context_values) + 20, min(all_values) + 0.1, \n",
    "         f'MSE: {mse:.4f}\\nMAE: {mae:.4f}',\n",
    "         bbox=dict(facecolor='white', alpha=0.7, boxstyle='round,pad=0.5'))\n",
    "\n",
    "# Improve the layout\n",
    "plt.xlabel('Time Steps', fontsize=10)\n",
    "plt.ylabel('Value', fontsize=10)\n",
    "plt.legend(title=None, loc='best')\n",
    "sns.despine(left=False, bottom=False)\n",
    "plt.tight_layout()\n",
    "plt.show()\n",
    "\n",
    "# Print quantitative comparison\n",
    "print(f\"Mean Squared Error (MSE): {mse:.4f}\")\n",
    "print(f\"Mean Absolute Error (MAE): {mae:.4f}\")\n",
    "\n",
    "# Detailed comparison dataframe with styled output\n",
    "comparison = pd.DataFrame({\n",
    "    'Actual': actual_values,\n",
    "    'Predicted': forecasted_values,\n",
    "    'Difference': actual_values - forecasted_values\n",
    "})\n",
    "\n",
    "print(\"\\nActual vs Predicted Values:\")\n",
    "pd.set_option('display.precision', 4)\n",
    "display(comparison.head(10))  # Show first 10 rows for brevity"
   ]
  },
  {
   "cell_type": "code",
   "execution_count": null,
   "id": "a98e1bde",
   "metadata": {},
   "outputs": [],
   "source": []
  },
  {
   "cell_type": "markdown",
   "id": "b4a3302d",
   "metadata": {},
   "source": [
    "## BLT Local Models"
   ]
  },
  {
   "cell_type": "code",
   "execution_count": null,
   "id": "dacfc2fc",
   "metadata": {
    "ExecuteTime": {
     "end_time": "2025-04-14T07:19:23.611188Z",
     "start_time": "2025-04-14T07:19:22.491876Z"
    }
   },
   "outputs": [],
   "source": [
    "# Copyright (c) Meta Platforms, Inc. and affiliates.\n",
    "import os\n",
    "from dataclasses import replace\n",
    "\n",
    "import numpy as np\n",
    "import pytest\n",
    "import torch\n",
    "\n",
    "from bytelatent.constants import BLT_DATA\n",
    "from bytelatent.data.data_types import Batch\n",
    "from bytelatent.data.ngram_processor import NgramProcessor\n",
    "from bytelatent.model.blt import (\n",
    "    ByteLatentTransformer,\n",
    "    ByteLatentTransformerArgs,\n",
    "    EmbeddingType,\n",
    "    compute_hash_embeddings,\n",
    "    create_global_transformer,\n",
    "    create_local_decoder,\n",
    "    create_local_encoder,\n",
    "    cross_attn_mask,\n",
    "    decoder_patch_ids_from_lengths,\n",
    "    get_blt_input,\n",
    "    init_embeddings,\n",
    "    patch_ids_from_lengths,\n",
    ")\n",
    "from bytelatent.model.latent_transformer import CrossAttention\n",
    "from bytelatent.model.utils import create_causal_mask\n",
    "from bytelatent.optim import OptimArgs, build_optimizer\n",
    "from bytelatent.tokenizers.constants import EOS_ID\n",
    "from bytelatent.train import compute_loss\n",
    "\n",
    "\n",
    "def batch_to_tensors_and_gpu(batch):\n",
    "    x = torch.from_numpy(batch.x)\n",
    "    y = torch.from_numpy(batch.y)\n",
    "    mask = None if batch.mask is None else torch.from_numpy(batch.mask)\n",
    "    patch_lengths = (\n",
    "        None if batch.patch_lengths is None else torch.from_numpy(batch.patch_lengths)\n",
    "    )\n",
    "    ngram_ids = None if batch.ngram_ids is None else torch.from_numpy(batch.ngram_ids)\n",
    "\n",
    "    if torch.cuda.is_available():\n",
    "        x = x.cuda()\n",
    "        y = y.cuda()\n",
    "        if mask is not None:\n",
    "            mask = mask.cuda()\n",
    "        if patch_lengths is not None:\n",
    "            patch_lengths = patch_lengths.cuda()\n",
    "        if ngram_ids is not None:\n",
    "            ngram_ids = ngram_ids.cuda()\n",
    "    return x, y, mask, patch_lengths, ngram_ids\n",
    "\n",
    "\n",
    "def fake_batch():\n",
    "    batch_dict = torch.load(os.path.join(BLT_DATA, \"test_batch.pt\"), weights_only=False)\n",
    "    del batch_dict[\"x2\"]\n",
    "    del batch_dict[\"y2\"]\n",
    "    del batch_dict[\"src_names\"]\n",
    "    return Batch(**batch_dict)"
   ]
  },
  {
   "cell_type": "code",
   "execution_count": null,
   "id": "64b1dca3",
   "metadata": {},
   "outputs": [],
   "source": [
    "import logging\n",
    "import os\n",
    "\n",
    "import torch\n",
    "from torch.nn.attention.flex_attention import create_block_mask\n",
    "from xformers.ops import fmha\n",
    "\n",
    "logger = logging.getLogger()\n",
    "\n",
    "\n",
    "def patch_reduce(h, max_num_patches, reduction, patch_ids):\n",
    "    \"\"\"\n",
    "    Reduce variable length patches to single embedding per patch\n",
    "    Note: this works with variable number of patches for different sequences in the batch\n",
    "    It handles variable length patches by assuming that patch_lengths will be 0 for any\n",
    "    extra patches on the *right*. Since there can be a variable number of patches\n",
    "    this function also return the number of patches for each sequence in the batch.\n",
    "    Any embeddings on the right that are not allocated to a patch\n",
    "    (i.e. if the sum(patch_lengths[i]) < seq_len for any i)\n",
    "    will be sent to a dummy patch, which is trimmed before returning.\n",
    "    \"\"\"\n",
    "    bs, seq_len, emb_dim = h.shape\n",
    "\n",
    "    patch_ids = patch_ids.unsqueeze(-1).expand(-1, -1, h.shape[-1])\n",
    "\n",
    "    reduced_embs = torch.zeros(\n",
    "        (bs, max_num_patches, emb_dim), dtype=h.dtype, device=h.device\n",
    "    )\n",
    "    reduced_embs = reduced_embs.scatter_reduce(\n",
    "        src=h,\n",
    "        dim=1,\n",
    "        index=patch_ids,\n",
    "        reduce=reduction,\n",
    "        include_self=False,\n",
    "    )\n",
    "    reduced_embs = reduced_embs[:, :max_num_patches, :]\n",
    "\n",
    "    return reduced_embs"
   ]
  },
  {
   "cell_type": "code",
   "execution_count": null,
   "id": "22d551dd",
   "metadata": {},
   "outputs": [],
   "source": [
    "tokens = torch.randint(0, 100, (2, 10))\n",
    "h = torch.randn(2, 10, 3)\n",
    "\n",
    "max_num_patches = 5\n",
    "reduction = \"max\"\n",
    "patch_ids = torch.tensor([[0, 0, 1, 1, 2, 2, 3, 3, 4, 4], [0, 0, 0, 1, 1, 1, 2, 2, 2, 2]])"
   ]
  },
  {
   "cell_type": "code",
   "execution_count": null,
   "id": "dcaeb8ce",
   "metadata": {},
   "outputs": [],
   "source": [
    "patch_ids"
   ]
  },
  {
   "cell_type": "code",
   "execution_count": null,
   "id": "2f955e28",
   "metadata": {},
   "outputs": [],
   "source": [
    "patch_reduced = patch_reduce(h, max_num_patches, reduction, patch_ids)\n",
    "print(patch_reduced.shape)  # Should print (2, 5, 512)"
   ]
  },
  {
   "cell_type": "code",
   "execution_count": null,
   "id": "d15e0c59",
   "metadata": {},
   "outputs": [],
   "source": [
    "patch_reduced"
   ]
  },
  {
   "cell_type": "code",
   "execution_count": null,
   "id": "12d40cc2",
   "metadata": {},
   "outputs": [],
   "source": [
    "def pooling_downsample(h, max_num_patches, pooling_mode, patch_ids):\n",
    "    cat = []\n",
    "    if \"avg\" in pooling_mode or \"mean\" in pooling_mode:\n",
    "        cat.append(patch_reduce(h, max_num_patches, \"mean\", patch_ids))\n",
    "    if \"min\" in pooling_mode:\n",
    "        cat.append(patch_reduce(h, max_num_patches, \"amin\", patch_ids))\n",
    "    if \"max\" in pooling_mode:\n",
    "        cat.append(patch_reduce(h, max_num_patches, \"amax\", patch_ids))\n",
    "    assert len(cat) > 0\n",
    "    h = torch.cat(cat, dim=-1)\n",
    "    return h"
   ]
  },
  {
   "cell_type": "code",
   "execution_count": null,
   "id": "c629564c",
   "metadata": {},
   "outputs": [],
   "source": [
    "pooling_downsample(\n",
    "    h,\n",
    "    max_num_patches,\n",
    "    pooling_mode=\"avg\",\n",
    "    patch_ids=patch_ids,\n",
    ")"
   ]
  },
  {
   "cell_type": "code",
   "execution_count": null,
   "id": "045c8559",
   "metadata": {},
   "outputs": [],
   "source": [
    "from bytelatent.model.local_models import LocalEncoder"
   ]
  },
  {
   "cell_type": "code",
   "execution_count": null,
   "id": "2a661a26",
   "metadata": {},
   "outputs": [],
   "source": [
    "from bytelatent.model.local_models import LocalModelArgs\n",
    "\n",
    "local_encoder_args = LocalModelArgs(\n",
    "    # Core transformer dimensions\n",
    "    dim=64,                 # Main transformer hidden size\n",
    "    dim_token_emb=64,       # Token embedding dimension before projection\n",
    "    dim_patch_emb=64,       # Output of downsampling (patch embedding dimension)\n",
    "    \n",
    "    # Attention settings\n",
    "    n_heads=1,               # Transformer attention heads\n",
    "    n_kv_heads=1,            # Key/Value heads\n",
    "    head_dim=64,             # dim / n_heads = 512 / 8 = 64\n",
    "    \n",
    "    # Transformer architecture\n",
    "    n_layers=4,              # Number of transformer blocks\n",
    "    dropout=0.1,             # Dropout rate\n",
    "    norm_eps=1e-5,           # LayerNorm epsilon\n",
    "\n",
    "    # Vocabulary and positional encoding\n",
    "    vocab_size=4096,         # Size of tokenizer vocabulary\n",
    "    # max_length=1024,         # Max length for absolute pos embeddings (used if rope is off)\n",
    "    max_seqlen=1024,         # Max for rotary embeddings (if rope is on)\n",
    "    eos_id=2,                # End-of-sequence token ID\n",
    "\n",
    "    # Patching setup\n",
    "    patch_size=16,           # Avg or fixed patch size\n",
    "    patching_mode=\"fixed\", # Or \"space\", \"fixed\"\n",
    "    downsampling_by_pooling=\"max\",  # Options: \"mean\", \"max\", \"avgmax\", etc.\n",
    "    \n",
    "    # Cross-attention configuration\n",
    "    cross_attn_encoder=True,\n",
    "    cross_attn_decoder=True,\n",
    "    cross_attn_all_layers_encoder=True,  # Optional: True = all layers get cross-attn\n",
    "    cross_attn_all_layers_decoder=True,\n",
    "    cross_attn_k=1,                        # Expands patch embeddings: P -> P * k\n",
    "    cross_attn_init_by_pooling=True,      # Pooling used to init patch-level embeddings\n",
    "    cross_attn_nheads=1,\n",
    "\n",
    "    # Patching and token configuration\n",
    "    encoder_hash_byte_group_size=None,    # Only needed for hash-based patching\n",
    "    use_local_encoder_transformer=True,\n",
    "    use_rope=True,\n",
    "    rope_theta=10000,\n",
    "    rope_use_fp32_in_outer_product=True,\n",
    "\n",
    "    # Misc\n",
    "    sliding_window=512,                   # Needed for local_block_causal attention\n",
    "    attn_impl=\"xformers\",                 # Fast attention backend\n",
    "    attn_bias_type=\"local_block_causal\",  # Supports sliding windows\n",
    "    init_std_factor=\"dim_ratio\",          # For better init stability\n",
    ")\n"
   ]
  },
  {
   "cell_type": "code",
   "execution_count": null,
   "id": "db0cf92c",
   "metadata": {},
   "outputs": [],
   "source": [
    "args = local_encoder_args"
   ]
  },
  {
   "cell_type": "code",
   "execution_count": null,
   "id": "6bd40f2d",
   "metadata": {},
   "outputs": [],
   "source": [
    "local_encoder = LocalEncoder(args)"
   ]
  },
  {
   "cell_type": "code",
   "execution_count": null,
   "id": "457c6ba8",
   "metadata": {},
   "outputs": [],
   "source": [
    "local_encoder = local_encoder.cuda()"
   ]
  },
  {
   "cell_type": "code",
   "execution_count": null,
   "id": "e16e12aa",
   "metadata": {},
   "outputs": [],
   "source": [
    "(h_encoder, h_cross), cache_encoder = local_encoder(tokens = tokens.to('cuda'), patch_ids=patch_ids.to('cuda'), num_patches=5)"
   ]
  },
  {
   "cell_type": "code",
   "execution_count": null,
   "id": "6f6f050d",
   "metadata": {},
   "outputs": [],
   "source": [
    "h_encoder.shape, h_cross.shape "
   ]
  },
  {
   "cell_type": "code",
   "execution_count": null,
   "id": "1305a57b",
   "metadata": {},
   "outputs": [],
   "source": [
    "tokens"
   ]
  },
  {
   "cell_type": "code",
   "execution_count": null,
   "id": "cb19f234",
   "metadata": {},
   "outputs": [],
   "source": [
    "patch_ids"
   ]
  },
  {
   "cell_type": "code",
   "execution_count": null,
   "id": "0cca5a83",
   "metadata": {},
   "outputs": [],
   "source": [
    "h_cross[1]"
   ]
  },
  {
   "cell_type": "code",
   "execution_count": null,
   "id": "530c644e",
   "metadata": {},
   "outputs": [],
   "source": [
    "from bytelatent.model.local_models import LocalDecoder\n",
    "from bytelatent.model.local_models import LocalModelArgs\n",
    "\n",
    "local_encoder_args = LocalModelArgs(\n",
    "    # Core transformer dimensions\n",
    "    dim=64,                 # Main transformer hidden size\n",
    "    dim_token_emb=64,       # Token embedding dimension before projection\n",
    "    dim_patch_emb=64,       # Output of downsampling (patch embedding dimension)\n",
    "    \n",
    "    # Attention settings\n",
    "    n_heads=1,               # Transformer attention heads\n",
    "    n_kv_heads=1,            # Key/Value heads\n",
    "    head_dim=64,             # dim / n_heads = 512 / 8 = 64\n",
    "    \n",
    "    # Transformer architecture\n",
    "    n_layers=4,              # Number of transformer blocks\n",
    "    dropout=0.1,             # Dropout rate\n",
    "    norm_eps=1e-5,           # LayerNorm epsilon\n",
    "\n",
    "    # Vocabulary and positional encoding\n",
    "    vocab_size=4096,         # Size of tokenizer vocabulary\n",
    "    # max_length=1024,         # Max length for absolute pos embeddings (used if rope is off)\n",
    "    max_seqlen=1024,         # Max for rotary embeddings (if rope is on)\n",
    "    eos_id=2,                # End-of-sequence token ID\n",
    "\n",
    "    # Patching setup\n",
    "    patch_size=16,           # Avg or fixed patch size\n",
    "    patching_mode=\"fixed\", # Or \"space\", \"fixed\"\n",
    "    downsampling_by_pooling=\"max\",  # Options: \"mean\", \"max\", \"avgmax\", etc.\n",
    "    \n",
    "    # Cross-attention configuration\n",
    "    cross_attn_encoder=True,\n",
    "    cross_attn_decoder=True,\n",
    "    cross_attn_all_layers_encoder=True,  # Optional: True = all layers get cross-attn\n",
    "    cross_attn_all_layers_decoder=True,\n",
    "    cross_attn_k=1,                        # Expands patch embeddings: P -> P * k\n",
    "    cross_attn_init_by_pooling=False,      # Pooling used to init patch-level embeddings\n",
    "    cross_attn_nheads=1,\n",
    "\n",
    "    # Patching and token configuration\n",
    "    encoder_hash_byte_group_size=None,    # Only needed for hash-based patching\n",
    "    use_local_encoder_transformer=True,\n",
    "    use_rope=True,\n",
    "    rope_theta=10000,\n",
    "    rope_use_fp32_in_outer_product=True,\n",
    "\n",
    "    # Misc\n",
    "    sliding_window=512,                   # Needed for local_block_causal attention\n",
    "    attn_impl=\"xformers\",                 # Fast attention backend\n",
    "    attn_bias_type=\"local_block_causal\",  # Supports sliding windows\n",
    "    init_std_factor=\"dim_ratio\",          # For better init stability\n",
    ")\n"
   ]
  },
  {
   "cell_type": "code",
   "execution_count": null,
   "id": "8436ca19",
   "metadata": {},
   "outputs": [],
   "source": [
    "\n",
    "local_decoder = LocalDecoder(args)\n",
    "local_decoder = local_decoder.cuda()"
   ]
  },
  {
   "cell_type": "code",
   "execution_count": null,
   "id": "293aa920",
   "metadata": {},
   "outputs": [],
   "source": [
    "patch_lengths = torch.tensor([[1,3,2,2,2], [1,3,4,1,1]])\n",
    "patch_lengths.shape"
   ]
  },
  {
   "cell_type": "code",
   "execution_count": null,
   "id": "10e7fe53",
   "metadata": {},
   "outputs": [],
   "source": [
    "tokens.to('cuda'), patch_ids, patch_lengths"
   ]
  },
  {
   "cell_type": "code",
   "execution_count": null,
   "id": "15473e2d",
   "metadata": {},
   "outputs": [],
   "source": [
    "h = h_encoder\n",
    "patch_embds = h_cross"
   ]
  },
  {
   "cell_type": "code",
   "execution_count": null,
   "id": "f9cbf792",
   "metadata": {},
   "outputs": [],
   "source": [
    "patch_lengths,tokens.shape[-1],patch_lengths[0, 0]"
   ]
  },
  {
   "cell_type": "code",
   "execution_count": null,
   "id": "aa883807",
   "metadata": {},
   "outputs": [],
   "source": [
    "decoder_patch_ids = decoder_patch_ids_from_lengths(\n",
    "    patch_lengths, 0, tokens.shape[-1]\n",
    ")"
   ]
  },
  {
   "cell_type": "code",
   "execution_count": null,
   "id": "86c673df",
   "metadata": {},
   "outputs": [],
   "source": [
    "decoder_patch_ids"
   ]
  },
  {
   "cell_type": "code",
   "execution_count": null,
   "id": "84daca0a",
   "metadata": {},
   "outputs": [],
   "source": [
    "patch_ids"
   ]
  },
  {
   "cell_type": "code",
   "execution_count": null,
   "id": "7ad047cc",
   "metadata": {},
   "outputs": [],
   "source": [
    "cross_attn_mask_dec = cross_attn_mask(\n",
    "    decoder_patch_ids.to('cuda'),\n",
    "    patch_lengths.to('cuda'),\n",
    "    N=tokens.shape[-1],\n",
    "    patches_as_queries=False,\n",
    "    cross_attn_k=args.cross_attn_k,\n",
    "    window=None,  # 🔥 use None instead of 512\n",
    "    block_mask=True,\n",
    ")\n"
   ]
  },
  {
   "cell_type": "code",
   "execution_count": null,
   "id": "9fa8c5d5",
   "metadata": {},
   "outputs": [],
   "source": [
    "decoder_out = local_decoder(\n",
    "    embeds = h.to('cuda'),\n",
    "    patch_embeds = patch_embds.to('cuda'),\n",
    "    tokens = tokens.to('cuda')\n",
    ")"
   ]
  },
  {
   "cell_type": "code",
   "execution_count": null,
   "id": "550a0dd9",
   "metadata": {},
   "outputs": [],
   "source": [
    "output, _ = decoder_out\n",
    "output.shape"
   ]
  },
  {
   "cell_type": "code",
   "execution_count": null,
   "id": "80316817",
   "metadata": {},
   "outputs": [],
   "source": [
    "# softmax output\n",
    "output = torch.nn.functional.softmax(output, dim=-1)\n",
    "# sample from the output\n",
    "# Take the logits for the last time step\n",
    "last_step_probs = output[:, -1, :]  # shape: (batch_size, vocab_size)\n",
    "\n",
    "# Sample one token per batch\n",
    "sampled = torch.multinomial(last_step_probs, num_samples=1)  # shape: (batch_size, 1)\n"
   ]
  },
  {
   "cell_type": "markdown",
   "id": "6d763119",
   "metadata": {},
   "source": [
    "## BLT Full Model"
   ]
  },
  {
   "cell_type": "code",
   "execution_count": null,
   "id": "7589283a",
   "metadata": {
    "ExecuteTime": {
     "end_time": "2025-04-14T07:18:22.681287Z",
     "start_time": "2025-04-14T07:18:19.413604Z"
    }
   },
   "outputs": [],
   "source": [
    "import torch\n",
    "from bytelatent.model.blt import ByteLatentTransformerArgs, ByteLatentTransformer\n",
    "from bytelatent.tokenizers.constants import BOE_ID, BOS_ID, EOS_ID, PAD_ID\n",
    "\n",
    "# Create the arguments objectfrom bytelatent.model.blt import ByteLatentTransformerArgs\n",
    "\n",
    "args = ByteLatentTransformerArgs(\n",
    "    seed=777,\n",
    "    vocab_size=4096,\n",
    "    dim=128,\n",
    "    n_layers_global = 2,\n",
    "    n_layers_local_decoder = 2,\n",
    "    n_layers_local_encoder= 2,\n",
    "    patch_size=8,\n",
    "    patching_mode=\"static\",\n",
    "    tie_local_encoder_decoder_logits=False,\n",
    "    patch_in_forward=False,\n",
    "    max_encoder_seq_length=512,\n",
    "    pad_to_max_length=True,\n",
    "    patching_threshold=3.1439168453216553,\n",
    "    encoder_hash_byte_group_size=[4 ],\n",
    "    encoder_hash_byte_group_vocab=50002,\n",
    "    encoder_hash_byte_group_nb_functions=3,\n",
    "    encoder_enable_byte_ngrams=False,\n",
    "    cross_attn_encoder=True,\n",
    "    cross_attn_decoder=True,\n",
    "    cross_attn_window_encoder=None,\n",
    "    cross_attn_window_decoder=None,\n",
    "    dim_local_encoder=128,\n",
    "    dim_local_decoder=128,\n",
    "    cross_attn_k=1,\n",
    "    cross_attn_nheads=2,\n",
    "    cross_attn_all_layers_decoder=True,\n",
    "    cross_attn_all_layers_encoder=True,\n",
    "    cross_attn_use_flex_attention=False,\n",
    "    cross_attn_init_by_pooling=True,\n",
    "    log_patch_lengths=True,\n",
    "    non_linearity=\"swiglu\",\n",
    "    use_rope=True,\n",
    "    recompute_fc1_out=False,\n",
    "    recompute_fc3_out=False,\n",
    "    recompute_attn=False,\n",
    "    custom_bwd=False,\n",
    "    layer_ckpt=\"none\",\n",
    "    use_local_encoder_transformer=True,\n",
    "    init_use_gaussian=True,\n",
    "    init_use_depth=\"current\",\n",
    "    attn_impl=\"sdpa\",\n",
    "    attn_bias_type=\"causal\",\n",
    "    alpha_depth=\"disabled\",\n",
    "    max_length=512,\n",
    "    local_attention_window_len=512,\n",
    "    max_seqlen=512,\n",
    "    downsampling_by_pooling=\"max\",\n",
    ")\n",
    "# Create the model\n",
    "model = ByteLatentTransformer(args)\n",
    "model = model.cuda()\n",
    "## Import data loader\n",
    "batch_size = 8\n",
    "seq_len = 512\n",
    "from dataloader import DataLoaderBLT\n",
    "data_loader = DataLoaderBLT(batch_size=batch_size, seq_length=seq_len)\n",
    "\n",
    "\n",
    "l = torch.full((batch_size,64), 8).to('cuda')\n",
    "l[:,0] = 1\n",
    "l[:,-1] = 10\n",
    "l[:,2] = 11\n",
    "l[:,1] = 10\n",
    "\n",
    "\n",
    "for i in range(20):\n",
    "    x, _, _, y, _ , _= data_loader.next_batch_random()\n",
    "\n",
    "    out = model(x.to('cuda'), patch_lengths.to('cuda'))"
   ]
  },
  {
   "cell_type": "code",
   "execution_count": null,
   "id": "993e2a60",
   "metadata": {},
   "outputs": [],
   "source": [
    "out.shape"
   ]
  },
  {
   "cell_type": "code",
   "execution_count": null,
   "id": "c8fbd3b1",
   "metadata": {},
   "outputs": [],
   "source": [
    "l = torch.full((batch_size,64), 8).to('cuda')\n",
    "l[:,0] = 1\n",
    "l[:,-1] = 10\n",
    "l[:,2] = 11\n",
    "l[:,1] = 10\n",
    "patch_lengths.shape\n"
   ]
  },
  {
   "cell_type": "code",
   "execution_count": null,
   "id": "c449e254",
   "metadata": {},
   "outputs": [],
   "source": [
    "l[0]"
   ]
  },
  {
   "cell_type": "code",
   "execution_count": null,
   "id": "39f36cbb",
   "metadata": {},
   "outputs": [],
   "source": [
    "x, _, _, y, _ , _= data_loader.next_batch_random()\n",
    "x.shape"
   ]
  },
  {
   "cell_type": "code",
   "execution_count": null,
   "id": "0b206eef",
   "metadata": {},
   "outputs": [],
   "source": [
    "num_params = sum(p.numel() for p in model.parameters())\n",
    "print(f\"Model size: {num_params / 1e6:.2f} M parameters\")"
   ]
  },
  {
   "cell_type": "code",
   "execution_count": null,
   "id": "96784916",
   "metadata": {},
   "outputs": [],
   "source": [
    "seq_len = 6\n",
    "batch_size = 1\n",
    "\n",
    "t = torch.randint(0,4096,(batch_size,seq_len)).to('cuda')\n",
    "# t[:,0] = 0\n",
    "\n",
    "l = torch.full((batch_size,4), 1).to('cuda')\n",
    "l[:,0] = 1\n",
    "l[0,1] = 4\n",
    "# l[1,1] = 3\n",
    "l[0,2] = 3\n",
    "# l[1,2] = 4\n",
    "l[:,-1] = 4\n",
    "\n",
    "# True if l[1].sum().item() == seq_len else l[1].sum().item()"
   ]
  },
  {
   "cell_type": "code",
   "execution_count": null,
   "id": "5e4e531c",
   "metadata": {},
   "outputs": [],
   "source": [
    "## Import data loader\n",
    "batch_size = 8\n",
    "seq_len = 512\n",
    "from dataloader import DataLoaderBLT\n",
    "data_loader = DataLoaderBLT(batch_size=batch_size, seq_length=seq_len)\n",
    "\n",
    "\n",
    "l = torch.full((batch_size,128), 4).to('cuda')\n",
    "l[:,0] = 1\n",
    "l[:,-1] = 4\n",
    "l[:,2] = 7\n",
    "l[:,1] = 4\n",
    "patch_lengths = l"
   ]
  },
  {
   "cell_type": "code",
   "execution_count": null,
   "id": "3da728e5",
   "metadata": {},
   "outputs": [],
   "source": [
    "patch_lengths[0].sum()"
   ]
  },
  {
   "cell_type": "code",
   "execution_count": null,
   "id": "43af583e",
   "metadata": {},
   "outputs": [],
   "source": [
    "for i in range(20):\n",
    "    x, _, _, y, _ , _= data_loader.next_batch_random()\n",
    "\n",
    "    out = model(x.to('cuda'), patch_lengths.to('cuda'))"
   ]
  },
  {
   "cell_type": "code",
   "execution_count": null,
   "id": "2fade5f9",
   "metadata": {},
   "outputs": [],
   "source": [
    "out.shape"
   ]
  },
  {
   "cell_type": "markdown",
   "id": "eb5e0d27",
   "metadata": {},
   "source": [
    "## Colab part"
   ]
  },
  {
   "cell_type": "code",
   "execution_count": null,
   "id": "654b8885",
   "metadata": {},
   "outputs": [],
   "source": [
    "import torch\n",
    "import os\n",
    "os.environ[\"BLT_ALLOW_MISSING_FLEX_ATTENTION\"] = \"1\"\n",
    "from torch.nn.attention.flex_attention import create_block_mask\n",
    "torch.__version__"
   ]
  },
  {
   "cell_type": "markdown",
   "id": "e35a3c17",
   "metadata": {},
   "source": [
    "old torch == '2.5.0+cu121'"
   ]
  },
  {
   "cell_type": "code",
   "execution_count": null,
   "id": "3e67aa78",
   "metadata": {},
   "outputs": [],
   "source": [
    "seq_len = 512\n",
    "\n",
    "t = torch.randint(5,260,(1,seq_len)).to('cuda')\n",
    "# t[:,0] = 0\n",
    "\n",
    "l = torch.full((1,35), 15).to('cuda')\n",
    "l[:,0] = 1\n",
    "l[:,1] = 15\n",
    "l[:,2] = 14\n",
    "l[:,-1] = 17\n",
    "\n",
    "True if l.sum().item() == seq_len else l.sum().item()"
   ]
  },
  {
   "cell_type": "markdown",
   "id": "8a4c132a",
   "metadata": {},
   "source": [
    "### Encoder Pass"
   ]
  },
  {
   "cell_type": "code",
   "execution_count": null,
   "id": "d499c7fd",
   "metadata": {},
   "outputs": [],
   "source": [
    "def patch_ids_from_lengths(patch_lengths, seq_len):\n",
    "    bs, num_patches = patch_lengths.shape\n",
    "    # Create a tensor of cumulative sums of the patch lengths\n",
    "    cum_d = torch.cat(\n",
    "        [\n",
    "            torch.zeros(bs, 1, dtype=patch_lengths.dtype, device=patch_lengths.device),\n",
    "            patch_lengths.cumsum(dim=-1),\n",
    "        ],\n",
    "        dim=-1,\n",
    "    )\n",
    "    print(cum_d)\n",
    "    patch_ids = (cum_d.unsqueeze(-1) <= torch.arange(seq_len, device=cum_d.device)).sum(\n",
    "        dim=-2\n",
    "    ) - 1\n",
    "    print(patch_ids)\n",
    "    assert not (\n",
    "        torch.max(patch_ids) > patch_lengths.shape[-1] or torch.min(patch_ids) < 0\n",
    "    ), f\"{torch.max(patch_ids)} > {patch_lengths.shape[-1]} or {torch.min(patch_ids)} < 0\"\n",
    "    return patch_ids\n",
    "pi = patch_ids_from_lengths(l, seq_len)"
   ]
  },
  {
   "cell_type": "code",
   "execution_count": null,
   "id": "d3e2db4a",
   "metadata": {},
   "outputs": [],
   "source": [
    "bs, N = t.shape"
   ]
  },
  {
   "cell_type": "code",
   "execution_count": null,
   "id": "955fdfe1",
   "metadata": {},
   "outputs": [],
   "source": [
    "t.shape, l.shape"
   ]
  },
  {
   "cell_type": "code",
   "execution_count": null,
   "id": "8b7d5b13",
   "metadata": {},
   "outputs": [],
   "source": [
    "num_patches = l.shape[1]\n",
    "patch_ids = pi\n",
    "\n",
    "kv_ids = patch_ids.unsqueeze(1).expand(bs, num_patches, seq_len)\n",
    "q_ids = (\n",
    "    torch.arange(num_patches, device=patch_ids.device)\n",
    "    .unsqueeze(0)\n",
    "    .unsqueeze(-1)\n",
    "    .expand(bs, num_patches, seq_len)\n",
    ")"
   ]
  },
  {
   "cell_type": "code",
   "execution_count": null,
   "id": "203efb98",
   "metadata": {},
   "outputs": [],
   "source": [
    "kv_ids.shape, q_ids.shape"
   ]
  },
  {
   "cell_type": "code",
   "execution_count": null,
   "id": "b63a7ea0",
   "metadata": {},
   "outputs": [],
   "source": [
    "mask = q_ids == kv_ids.to('cuda')\n",
    "print(mask)\n",
    "mask = mask.repeat_interleave(1, dim=1).to('cuda')"
   ]
  },
  {
   "cell_type": "code",
   "execution_count": null,
   "id": "11e11bcd",
   "metadata": {},
   "outputs": [],
   "source": [
    "cross_mask = mask\n",
    "cross_mask.shape"
   ]
  },
  {
   "cell_type": "code",
   "execution_count": null,
   "id": "fd2f6a51",
   "metadata": {},
   "outputs": [],
   "source": [
    "q_len = l.shape[1]\n",
    "kv_len = N\n",
    "q_len, kv_len"
   ]
  },
  {
   "cell_type": "code",
   "execution_count": null,
   "id": "1285a75d",
   "metadata": {},
   "outputs": [],
   "source": [
    "assert cross_mask.shape == (\n",
    "            bs,\n",
    "            q_len,\n",
    "            kv_len,\n",
    "        ), f\"{cross_mask.shape} != {(bs, q_len, kv_len)}\""
   ]
  },
  {
   "cell_type": "code",
   "execution_count": null,
   "id": "a9d2b288",
   "metadata": {},
   "outputs": [],
   "source": [
    "def patch_mask(b, h, q_idx, kv_idx):\n",
    "                return cross_mask[b, q_idx, kv_idx]\n"
   ]
  },
  {
   "cell_type": "code",
   "execution_count": null,
   "id": "11a17184",
   "metadata": {},
   "outputs": [],
   "source": [
    "print(patch_mask, bs, q_len, kv_len)\n",
    "block_mask = create_block_mask(\n",
    "                patch_mask,\n",
    "                B=bs,\n",
    "                H=None,\n",
    "                Q_LEN=q_len,\n",
    "                KV_LEN=kv_len,\n",
    "                _compile=True,\n",
    "            )"
   ]
  },
  {
   "cell_type": "code",
   "execution_count": null,
   "id": "e2e81a6b",
   "metadata": {},
   "outputs": [],
   "source": [
    "block_mask"
   ]
  },
  {
   "cell_type": "code",
   "execution_count": null,
   "id": "bdd2125f",
   "metadata": {},
   "outputs": [],
   "source": [
    "t.shape, l.shape"
   ]
  },
  {
   "cell_type": "markdown",
   "id": "3cc9e185",
   "metadata": {},
   "source": [
    "### Decoder Pass"
   ]
  },
  {
   "cell_type": "code",
   "execution_count": null,
   "id": "5640ac04",
   "metadata": {},
   "outputs": [],
   "source": [
    "def decoder_patch_ids_from_lengths(patch_lengths, nb_boe, seq_len):\n",
    "    first_patch_length = patch_lengths[0, 0]\n",
    "    print(f\"first patche length = {first_patch_length}\")\n",
    "    assert torch.all(\n",
    "        first_patch_length == patch_lengths[:, 0]\n",
    "    ), \"first patch should always be the same size (1 for dynamic, patch_size for static).\"\n",
    "    assert (\n",
    "        first_patch_length - nb_boe == 1\n",
    "    ), f\"First patch (patch length: {first_patch_length}) should have one non-boe token (boe toks: {nb_boe})\"\n",
    "    # Remove first patch from patch_ids for local decoder inputs and shift the last patch.\n",
    "    # decoder_patch_lengths = patch_lengths[:, 1:].clone()\n",
    "    # decoder_patch_lengths = add_to_last_nonzero_patch(decoder_patch_lengths, 1)\n",
    "    decoder_patch_lengths = patch_lengths[:, 1:]\n",
    "    print(f\"decoder p len sum = {decoder_patch_lengths.sum()} \")\n",
    "    print(f\"Original patch lens: {patch_lengths.shape}\")\n",
    "    print(f\"Decoder Patch lens: {decoder_patch_lengths.shape}\")\n",
    "    assert (\n",
    "        decoder_patch_lengths.sum() + (nb_boe + 1) * patch_lengths.shape[0]\n",
    "        == patch_lengths.sum()\n",
    "    ), f\"{decoder_patch_lengths.sum() + (nb_boe + 1) * patch_lengths.shape[0]} != {patch_lengths.sum()}\"\n",
    "    assert torch.all(decoder_patch_lengths >= 0), f\"{decoder_patch_lengths}\"\n",
    "    decoder_patch_ids = patch_ids_from_lengths(\n",
    "        patch_lengths=decoder_patch_lengths, seq_len=seq_len\n",
    "    )\n",
    "    return decoder_patch_ids\n",
    "\n",
    "dec_patch_ids = decoder_patch_ids_from_lengths(l, 0, seq_len)"
   ]
  },
  {
   "cell_type": "code",
   "execution_count": null,
   "id": "9ace661b",
   "metadata": {},
   "outputs": [],
   "source": [
    "patch_ids = dec_patch_ids"
   ]
  },
  {
   "cell_type": "code",
   "execution_count": null,
   "id": "7f6dbd82",
   "metadata": {},
   "outputs": [],
   "source": [
    "q_ids = patch_ids.unsqueeze(-1).expand(bs, seq_len, num_patches)\n",
    "kv_ids = (\n",
    "    torch.arange(num_patches, device=patch_ids.device)\n",
    "    .unsqueeze(0)\n",
    "    .unsqueeze(0)\n",
    "    .expand(bs, seq_len, num_patches)\n",
    ")\n",
    "q_ids.shape, kv_ids.shape"
   ]
  },
  {
   "cell_type": "code",
   "execution_count": null,
   "id": "e194f3ac",
   "metadata": {},
   "outputs": [],
   "source": [
    "mask = q_ids == kv_ids.to('cuda')\n",
    "print(mask)\n",
    "mask = mask.repeat_interleave(1, dim=1).to('cuda')"
   ]
  },
  {
   "cell_type": "code",
   "execution_count": null,
   "id": "02d279a8",
   "metadata": {},
   "outputs": [],
   "source": [
    "cross_mask = mask\n",
    "cross_mask.shape"
   ]
  },
  {
   "cell_type": "code",
   "execution_count": null,
   "id": "7c8f3d6a",
   "metadata": {},
   "outputs": [],
   "source": [
    "q_len = N\n",
    "kv_len = l.shape[1]\n",
    "q_len, kv_len"
   ]
  },
  {
   "cell_type": "code",
   "execution_count": null,
   "id": "a772f8e6",
   "metadata": {},
   "outputs": [],
   "source": [
    "print(patch_mask, bs, q_len, kv_len)\n",
    "block_mask = create_block_mask(\n",
    "                patch_mask,\n",
    "                B=bs,\n",
    "                H=None,\n",
    "                Q_LEN=q_len,\n",
    "                KV_LEN=kv_len,\n",
    "                _compile=True,\n",
    "            )"
   ]
  },
  {
   "cell_type": "code",
   "execution_count": null,
   "id": "b6e2c584",
   "metadata": {},
   "outputs": [],
   "source": [
    "block_mask"
   ]
  },
  {
   "cell_type": "code",
   "execution_count": null,
   "id": "f6f49530",
   "metadata": {},
   "outputs": [],
   "source": [
    "dec_patch_ids"
   ]
  },
  {
   "cell_type": "code",
   "execution_count": null,
   "id": "b89e0fc7",
   "metadata": {},
   "outputs": [],
   "source": [
    "pi"
   ]
  },
  {
   "cell_type": "markdown",
   "id": "593bcf62",
   "metadata": {},
   "source": []
  },
  {
   "cell_type": "code",
   "execution_count": null,
   "id": "6ae7fcfd",
   "metadata": {},
   "outputs": [],
   "source": [
    "seq_len = 5\n",
    "\n",
    "t = torch.randint(5,260,(1,seq_len)).to('cuda')\n",
    "# t[:,0] = 0\n",
    "\n",
    "l = torch.full((1,35), 15).to('cuda')\n",
    "l[:,0] = 1\n",
    "l[:,1] = 15\n",
    "l[:,2] = 14\n",
    "l[:,-1] = 17\n",
    "\n",
    "True if l.sum().item() == seq_len else l.sum().item()"
   ]
  },
  {
   "cell_type": "code",
   "execution_count": null,
   "id": "11e8596e",
   "metadata": {},
   "outputs": [],
   "source": [
    "e,_,d = get_blt_input(t,1,0)"
   ]
  },
  {
   "cell_type": "code",
   "execution_count": null,
   "id": "e5d9318b",
   "metadata": {},
   "outputs": [],
   "source": [
    "e.shape, d.shape"
   ]
  },
  {
   "cell_type": "code",
   "execution_count": null,
   "id": "de71dd5c",
   "metadata": {},
   "outputs": [],
   "source": [
    "def get_blt_input(\n",
    "    tokens: torch.Tensor,\n",
    "    nb_boe: torch.Tensor,\n",
    "    boe_id: int,\n",
    "):\n",
    "    \"\"\"\n",
    "        This function returns X_et, X_gt and X_dt, the encoder, global, and decoder\n",
    "    tokens respectively.\n",
    "\n",
    "    Consider the input and target sequences:\n",
    "    X=[3,4,5,6,7,eos,bos,8,9,10,eos,bos,11,12,13]\n",
    "    Y=[4,5,6,7,eos,bos,8,9,10,eos,bos,11,12,13,14]\n",
    "    with patch_size=4\n",
    "\n",
    "    Note 1: that there will be no special tokens introduced at the patch level.\n",
    "    Note 2: X_e needs to be trimmed to be passed to Global\n",
    "\n",
    "    Current without boe:\n",
    "    X_et = [[boe,boe,boe,boe] [3,4,5,6],      [7,eos,bos,8],    [9,10,eos,bos] [11,12,13, pad]]\n",
    "    X_g =  [[boe,boe,boe,boe] [3,4,5,6],      [7,eos,bos,8],    [9,10,eos,bos] [11,12,13, pad]] # remove last glob patch\n",
    "    X_dt = [[3,4,5,6]         [7,eos,bos,8],  [9,10,eos,bos],   [11,12,13]]\n",
    "    Y =    [[4,5,6,7]         [eos,bos,8,9],  [10,eos,bos,11],  [12,13,14]]\n",
    "\n",
    "    --> lag fix:\n",
    "    X_et = [[boe,boe,boe,3]   [4,5,6,7],      [eos,bos,8,9],    [10,eos,bos,11] [12,13,pad,pad]]\n",
    "    X_g =  [[boe,boe,boe,3]   [4,5,6,7],      [eos,bos,8,9],    [10,eos,bos,11]]\n",
    "    X_dt = [[3,4,5,6]         [7,eos,bos,8],  [9,10,eos,bos],   [11,12,13]]\n",
    "    Y =    [[4,5,6,7]    \t  [eos,bos,8,9],  [10,eos,bos,11],  [12,13,14]]\n",
    "\n",
    "    Dynamic (current):\n",
    "    X = [3,4,5,6,7,eos,bos,8,9,10,eos,bos]\n",
    "    Y = [4,5,6,7,eos,bos,8,9,10,eos,bos,11]\n",
    "\n",
    "    entropy patching:\n",
    "    input: 7, bos, 9, 10\n",
    "    pred (high entropy): eos, 8, 10, eos\n",
    "\n",
    "    X_et = [[boe,3,4,5,6,7,eos,bos,8,9,10,eos,bos]\n",
    "    X_g =  [[boe],      [3,4,5,6], [7,eos],[bos,8],[9],     [10,eos]]\n",
    "    X_dt = [[3,4,5,6],  [7,eos],   [bos,8],[9],    [10,eos],[bos]]\n",
    "    Y =    [4,5,6,7,eos,bos,8,9,10,eos,bos,11]\n",
    "\n",
    "    --> lag fix no boe (force single byte first patch):\n",
    "    X_et = [[3,4,5,6,7,eos,bos,8,9,10,eos,bos,11,12]\n",
    "    X_g =  [[3],        [4,5,6,7], [eos,bos],[8,9], [10],       [eos,bos],      [11,12]] # remove last global patch\n",
    "    X_dt = [[3,4,5,6],  [7,eos],   [bos,8], [9],    [10,eos],   [bos,11,12]]\n",
    "    Y =    [4,5,6,7,    eos,bos,    8,9,    10,     eos,bos,    11,12,13]\n",
    "\n",
    "    input: 4, 7, bos, 9, 10\n",
    "    pred (high entropy): 5, eos, 8, 10, eos\n",
    "\n",
    "    X_et = [[3,4,5,6,7,eos,bos,8,9,10,eos,bos,11,12]\n",
    "    X_g =  [[3],        [4]   ,   [5,6,7], [eos,bos],[8,9], [10],       [eos,bos],      [11,12]] # remove last global patch\n",
    "    X_dt = [[3]         [4,5,6],  [7,eos],   [bos,8], [9],    [10,eos],   [bos,11,12]]\n",
    "    Y =    [4,]         [5,6,7,    eos,bos,    8,9,    10,     eos,bos,    11,12,13]\n",
    "\n",
    "    Handle the last byte properly.\n",
    "    patch_lengths = [1, 1,         3,      2,         2      1           2               2         1]\n",
    "    X_et = [[3,4,5,6,7,eos,bos,8,9,10,eos,bos,11,12]\n",
    "    X_g =  [[3],        [4]   ,   [5,6,7], [eos,bos],[8,9], [10],       [eos,bos],      [11,12]] # do not remove last global patch\n",
    "    X_dt = [[3]         [4,5,6],  [7,eos],   [bos,8], [9],    [10,eos],   [bos,11]       [12]]\n",
    "    Y =    [4,]         [5,6,7,    eos,bos,    8,9,    10,     eos,bos,    11,12,        13]]\n",
    "\n",
    "\n",
    "    bpe delim\n",
    "    X_et = [[3,4,5,6,7,<d>,eos,bos,<d>,8,9,<d>,10,<d>,eos,bos,11,12]\n",
    "    X_g =  [[3],          [4,5,6,7,<d>],     [eos,bos,<d>], ..\n",
    "    X_dt = [[3,4,5,6,7],  [<d>,eos,bos],     [<d>,bos,8], ..\n",
    "    Y =    [4,5,6,7,<d>,    eos,bos,<d>       8,9,<d>, ..\n",
    "\n",
    "\n",
    "    Note 1: that there will be no special tokens introduced at the patch level.\n",
    "    Note 2: X_e needs to be trimmed to be passed to Global\n",
    "    \"\"\"\n",
    "    batch_size, seq_len = tokens.shape\n",
    "    local_encoder_tokens = tokens\n",
    "    local_decoder_tokens = tokens\n",
    "\n",
    "    if nb_boe > 0:\n",
    "        padded_patch = tokens.new(batch_size, nb_boe).fill_(boe_id)\n",
    "        local_encoder_tokens = torch.cat((padded_patch, local_encoder_tokens), dim=1)\n",
    "    # global_tokens = tokens.new(batch_size, ((seq_len-1) // patch_size)+1).fill_(boe_id)\n",
    "\n",
    "    # create global tokens, contains boe tokens and eos\n",
    "    # padded_local_encoder_tokens = fill_tokens(local_encoder_tokens, patch_size, boe_id)\n",
    "    # patches = padded_local_encoder_tokens.view(batch_size, -1, patch_size)\n",
    "    # global_tokens = (patches.eq(eos_id).any(dim=2).int() * eos_id)[:, 1:]\n",
    "    # global_tokens += global_tokens.eq(0).int() * boe_id\n",
    "    # TODO: fix this when we want to use block causal in the global.\n",
    "\n",
    "    # if enforce_patch_size_multiple and local_encoder_tokens.shape[-1] % patch_size != 0:\n",
    "    #     local_encoder_tokens = fill_tokens(local_encoder_tokens, patch_size, boe_id)\n",
    "\n",
    "    return local_encoder_tokens, None, local_decoder_tokens"
   ]
  }
 ],
 "metadata": {
  "kernelspec": {
   "display_name": "blt_250513",
   "language": "python",
   "name": "python3"
  },
  "language_info": {
   "codemirror_mode": {
    "name": "ipython",
    "version": 3
   },
   "file_extension": ".py",
   "mimetype": "text/x-python",
   "name": "python",
   "nbconvert_exporter": "python",
   "pygments_lexer": "ipython3",
   "version": "3.11.11"
  }
 },
 "nbformat": 4,
 "nbformat_minor": 5
}
